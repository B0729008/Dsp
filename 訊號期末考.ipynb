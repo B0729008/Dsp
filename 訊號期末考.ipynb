import math

def iexp(n):
    return complex(math.cos(n), math.sin(n))

def is_pow2(n):
    return False if n == 0 else (n == 1 or is_pow2(n >> 1))

def dft(xs):
    "naive dft"
    n = len(xs)
    return [sum((xs[k] * iexp(-2 * math.pi * i * k / n) for k in range(n)))
            for i in range(n)]

def dftinv(xs):
    "naive dft"
    n = len(xs)
    return [sum((xs[k] * iexp(2 * math.pi * i * k / n) for k in range(n))) / n
            for i in range(n)
            
x1=[1,0,0,0,0,0,0,0]
X1=dft(x1)
temp = dftinv(X1)
print([v.real for v in temp])

x2=[1,1,1,1,1,1,1,1]
dft(x2)

x3=[1,-1,1,-1,1,-1,1,-1]
dft(x3)

x4=[3,0,2,0,2,0,2,0]
dft(x4)

X5=[1,1,0,0,0,0,1,1]
x5 = dftinv(X5)
print([v.real for v in x5])

X6=[1,1,0,0,0,0,0,1]
x6 = dftinv(X6)
print([v.real for v in x6])

x7=[1,1,0,0]
dft(x7)

x8=[1,1,0,0,0,0,0,0]
dft(x8)
